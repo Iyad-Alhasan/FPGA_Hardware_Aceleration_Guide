{
 "cells": [
  {
   "cell_type": "markdown",
   "metadata": {},
   "source": [
    "# importing Libraries"
   ]
  },
  {
   "cell_type": "code",
   "execution_count": null,
   "metadata": {},
   "outputs": [],
   "source": [
    "from time import time\n",
    "from pynq import Overlay\n",
    "import numpy as np\n",
    "from pynq import allocate\n",
    "\n",
    "ol_adds = Overlay('design_1.bit')\n",
    "dma_ip = ol_adds.axi_dma_0\n",
    "\n"
   ]
  },
  {
   "cell_type": "markdown",
   "metadata": {},
   "source": [
    "# Function to join the numbers we want to add in a single element to be sent to the adder then"
   ]
  },
  {
   "cell_type": "code",
   "execution_count": null,
   "metadata": {},
   "outputs": [],
   "source": [
    "def concatenate_to_64bit(int1: int, int2: int) -> int:\n",
    "    \"\"\"\n",
    "    Concatenate two 32-bit integers into a 64-bit integer.\n",
    "    \n",
    "    Args:\n",
    "        int1 (int): The first 32-bit integer (will occupy bits 63 to 32).\n",
    "        int2 (int): The second 32-bit integer (will occupy bits 31 to 0).\n",
    "    \n",
    "    Returns:\n",
    "        int: The concatenated 64-bit integer.\n",
    "    \"\"\"\n",
    "    # Ensure the inputs are treated as 32-bit integers\n",
    "    int1 &= 0xFFFFFFFF\n",
    "    int2 &= 0xFFFFFFFF\n",
    "    \n",
    "    # Shift the first integer to the left by 32 bits and OR with the second integer\n",
    "    result = (int1 << 32) | int2\n",
    "    return result"
   ]
  },
  {
   "cell_type": "markdown",
   "metadata": {},
   "source": [
    "## Define Add Function (in reality it is a transmision and receive function)\n"
   ]
  },
  {
   "cell_type": "code",
   "execution_count": null,
   "metadata": {},
   "outputs": [],
   "source": [
    "def adds_data():\n",
    "    dma_ip.sendchannel.transfer(in_buffer)\n",
    "    dma_ip.recvchannel.transfer(out_buffer)\n",
    "    dma_ip.sendchannel.wait()\n",
    "    dma_ip.recvchannel.wait()"
   ]
  },
  {
   "cell_type": "code",
   "execution_count": null,
   "metadata": {},
   "outputs": [],
   "source": [
    "my_data = []\n",
    "for i in range(30):\n",
    "    my_data.append(concatenate_to_64bit(i,i))\n",
    "\n",
    "num_data = len(my_data)\n",
    "print (my_data) #numbers to be added cannot be recognized in decimal format\n",
    "\"\"\"\n",
    "We allocate the buffers in memory, note that the input buffer is 64 bits and the output is 32 bits.\n",
    "To avoid overflow we should have designed the adder to have an output width of 32+1 = 33 bit. I have not done this to keep \n",
    "things simple.\n",
    "\"\"\"\n",
    "in_buffer = allocate(shape=(num_data,), dtype=np.uint64)\n",
    "out_buffer = allocate(shape=(num_data,), dtype=np.uint32)\n",
    "\n"
   ]
  },
  {
   "cell_type": "markdown",
   "metadata": {},
   "source": [
    "# Copying DATA into the input Buffer"
   ]
  },
  {
   "cell_type": "code",
   "execution_count": null,
   "metadata": {},
   "outputs": [],
   "source": [
    "for i in range(num_data):\n",
    "    in_buffer[i] = my_data[i]"
   ]
  },
  {
   "cell_type": "markdown",
   "metadata": {},
   "source": [
    "# Peforming addition and printing output"
   ]
  },
  {
   "cell_type": "code",
   "execution_count": null,
   "metadata": {
    "scrolled": true
   },
   "outputs": [],
   "source": [
    "adds_data()\n",
    "\n",
    "#print the summation output\n",
    "for i in range(num_data):\n",
    "    print(out_buffer[i])\n"
   ]
  },
  {
   "cell_type": "markdown",
   "metadata": {},
   "source": [
    "# Free the memory at the end."
   ]
  },
  {
   "cell_type": "code",
   "execution_count": null,
   "metadata": {},
   "outputs": [],
   "source": [
    "del in_buffer\n",
    "del out_buffer"
   ]
  }
 ],
 "metadata": {
  "kernelspec": {
   "display_name": "Python 3 (ipykernel)",
   "language": "python",
   "name": "python3"
  },
  "language_info": {
   "codemirror_mode": {
    "name": "ipython",
    "version": 3
   },
   "file_extension": ".py",
   "mimetype": "text/x-python",
   "name": "python",
   "nbconvert_exporter": "python",
   "pygments_lexer": "ipython3",
   "version": "3.10.4"
  }
 },
 "nbformat": 4,
 "nbformat_minor": 2
}
